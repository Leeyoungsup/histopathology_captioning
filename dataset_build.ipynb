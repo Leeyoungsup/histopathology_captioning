{
 "cells": [
  {
   "cell_type": "code",
   "execution_count": 2,
   "metadata": {},
   "outputs": [],
   "source": [
    "from sklearn.model_selection import train_test_split\n",
    "import pandas as pd"
   ]
  },
  {
   "cell_type": "code",
   "execution_count": 12,
   "metadata": {},
   "outputs": [],
   "source": [
    "df=pd.read_csv('../../data/PatchGastricADC22/captions.csv')\n",
    "x_train,x_test=train_test_split(df,test_size=0.1)\n",
    "x_train=x_train.reset_index().drop('index', axis=1)\n",
    "x_test=x_test.reset_index().drop('index', axis=1)\n",
    "x_train.to_csv('../../data/PatchGastricADC22/train_captions.csv',index=False)\n",
    "x_test.to_csv('../../data/PatchGastricADC22/test_captions.csv',index=False)"
   ]
  }
 ],
 "metadata": {
  "kernelspec": {
   "display_name": "LeeYS",
   "language": "python",
   "name": "python3"
  },
  "language_info": {
   "codemirror_mode": {
    "name": "ipython",
    "version": 3
   },
   "file_extension": ".py",
   "mimetype": "text/x-python",
   "name": "python",
   "nbconvert_exporter": "python",
   "pygments_lexer": "ipython3",
   "version": "3.9.0"
  }
 },
 "nbformat": 4,
 "nbformat_minor": 2
}
