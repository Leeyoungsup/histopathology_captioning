{
 "cells": [
  {
   "cell_type": "code",
   "execution_count": 11,
   "metadata": {},
   "outputs": [],
   "source": [
    "from sklearn.model_selection import train_test_split\n",
    "import pandas as pd\n",
    "import shutil\n",
    "import os\n",
    "import numpy as np\n",
    "from glob import glob\n",
    "from tqdm import tqdm\n",
    "def create_dir(path):\n",
    "    if not os.path.exists(path):\n",
    "        os.makedirs(path)\n",
    "    return path"
   ]
  },
  {
   "cell_type": "code",
   "execution_count": 12,
   "metadata": {},
   "outputs": [],
   "source": [
    "df=pd.read_csv('../../data/PatchGastricADC22/captions.csv')\n",
    "x_train,x_test=train_test_split(df,test_size=0.1)\n",
    "x_train=x_train.reset_index().drop('index', axis=1)\n",
    "x_test=x_test.reset_index().drop('index', axis=1)\n",
    "x_train.to_csv('../../data/PatchGastricADC22/train_captions.csv',index=False)\n",
    "x_test.to_csv('../../data/PatchGastricADC22/test_captions.csv',index=False)"
   ]
  },
  {
   "cell_type": "code",
   "execution_count": 12,
   "metadata": {},
   "outputs": [
    {
     "name": "stderr",
     "output_type": "stream",
     "text": [
      "100%|██████████| 991/991 [1:01:36<00:00,  3.73s/it]\n"
     ]
    },
    {
     "data": {
      "text/plain": [
       "'f77a619f6ccc449f915b44bdc0d6d8f0'"
      ]
     },
     "execution_count": 12,
     "metadata": {},
     "output_type": "execute_result"
    }
   ],
   "source": [
    "df=pd.read_csv('../../data/PatchGastricADC22/captions.csv')\n",
    "for i in tqdm(range(len(df))):\n",
    "    image_path='../../data/PatchGastricADC22/patches_captions/'\n",
    "    folder_path='../../data/PatchGastricADC22/f_patches_captions/'\n",
    "    image_list=glob(image_path+df.loc[i]['id']+'*.jpg')\n",
    "    create_dir(folder_path+df.loc[i]['id']+'/')\n",
    "    for image in image_list:\n",
    "        shutil.move(image,folder_path+df.loc[i]['id']+'/'+os.path.basename(image))\n",
    "        \n",
    "df.loc[0]['id']"
   ]
  }
 ],
 "metadata": {
  "kernelspec": {
   "display_name": "LeeYS",
   "language": "python",
   "name": "python3"
  },
  "language_info": {
   "codemirror_mode": {
    "name": "ipython",
    "version": 3
   },
   "file_extension": ".py",
   "mimetype": "text/x-python",
   "name": "python",
   "nbconvert_exporter": "python",
   "pygments_lexer": "ipython3",
   "version": "3.10.14"
  }
 },
 "nbformat": 4,
 "nbformat_minor": 2
}
