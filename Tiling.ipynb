{
 "cells": [
  {
   "cell_type": "code",
   "execution_count": 1,
   "metadata": {},
   "outputs": [],
   "source": [
    "import openslide\n",
    "import numpy as np\n",
    "from PIL import Image\n",
    "import cv2\n",
    "from glob import glob\n",
    "from tqdm import tqdm\n",
    "import os\n",
    "import matplotlib.pyplot as plt"
   ]
  },
  {
   "cell_type": "code",
   "execution_count": 2,
   "metadata": {},
   "outputs": [],
   "source": [
    "wsi_file_list=glob(\"../../data/Stomach biopsy 스캔원본/*.mrxs\")\n",
    "\n",
    "def create_dir(path):\n",
    "    if not os.path.exists(path):\n",
    "        os.makedirs(path)"
   ]
  },
  {
   "cell_type": "code",
   "execution_count": null,
   "metadata": {},
   "outputs": [],
   "source": [
    "for i in tqdm(range(len(wsi_file_list))):\n",
    "    slide=openslide.OpenSlide(wsi_file_list[i])\n",
    "    folder_name = (os.path.basename(wsi_file_list[i])).split(\".\")[0]\n",
    "\n",
    "    thumbnail = np.array(slide.get_thumbnail(slide.level_dimensions[6]))\n",
    "    hsv_image = cv2.cvtColor(thumbnail, cv2.COLOR_RGB2HSV)\n",
    "    mask=np.where(hsv_image[:,:,0]>127,255,0).astype(np.uint8)\n",
    "    Image.fromarray(mask).save('../../data/gcu_svs/mask/'+folder_name+\".png\")"
   ]
  },
  {
   "cell_type": "code",
   "execution_count": 8,
   "metadata": {},
   "outputs": [
    {
     "name": "stderr",
     "output_type": "stream",
     "text": [
      "  2%|▏         | 2/102 [01:22<1:05:15, 39.15s/it]"
     ]
    }
   ],
   "source": [
    "for i in tqdm(range(len(wsi_file_list))):\n",
    "    slide=openslide.OpenSlide(wsi_file_list[i])\n",
    "    tile_size = int(300*(41.1/20.0))  # 각 타일 크기\n",
    "    x_tiles = slide.dimensions[0] // tile_size\n",
    "    y_tiles = slide.dimensions[1] // tile_size\n",
    "    src_tile_size=300\n",
    "    folder_name = (os.path.basename(wsi_file_list[i])).split(\".\")[0]\n",
    "    mask = np.array(Image.open('../../data/gcu_svs/mask/'+folder_name+\".png\"))\n",
    "    ratio=mask.shape[0]/slide.dimensions[1]\n",
    "    create_dir('../../data/gcu_svs/svs/'+folder_name+\"/\")\n",
    "    for x in range(x_tiles):\n",
    "        for y in range(y_tiles):\n",
    "            x_ratio_ind=[int(x*tile_size*ratio),int((x+1)*tile_size*ratio)]\n",
    "            y_ratio_ind=[int(y*tile_size*ratio),int((y+1)*tile_size*ratio)]\n",
    "            \n",
    "            if mask[y_ratio_ind[0]:y_ratio_ind[1],x_ratio_ind[0]:x_ratio_ind[1]].mean()==0:\n",
    "                continue\n",
    "            region = np.array(slide.read_region((x * tile_size, y * tile_size), level=0, size=(tile_size, tile_size)))\n",
    "            hsv_image = cv2.cvtColor(region[:,:,:-1], cv2.COLOR_RGB2HSV)\n",
    "            ret,mask1=cv2.threshold(hsv_image[:,:,1],127,1, cv2.THRESH_OTSU)\n",
    "            if ret<50:\n",
    "                continue\n",
    "            if mask1.sum()<tile_size*tile_size*0.5:\n",
    "                continue\n",
    "            Image.fromarray(region).resize((src_tile_size,src_tile_size)).save('../../data/gcu_svs/svs/'+folder_name+\"/{}_{}.png\".format(x,y))\n"
   ]
  },
  {
   "cell_type": "code",
   "execution_count": 7,
   "metadata": {},
   "outputs": [
    {
     "data": {
      "text/plain": [
       "616.5"
      ]
     },
     "execution_count": 7,
     "metadata": {},
     "output_type": "execute_result"
    }
   ],
   "source": [
    "tile_size"
   ]
  },
  {
   "cell_type": "code",
   "execution_count": null,
   "metadata": {},
   "outputs": [],
   "source": [
    "folder_name"
   ]
  }
 ],
 "metadata": {
  "kernelspec": {
   "display_name": "LeeYS",
   "language": "python",
   "name": "python3"
  },
  "language_info": {
   "codemirror_mode": {
    "name": "ipython",
    "version": 3
   },
   "file_extension": ".py",
   "mimetype": "text/x-python",
   "name": "python",
   "nbconvert_exporter": "python",
   "pygments_lexer": "ipython3",
   "version": "3.10.14"
  }
 },
 "nbformat": 4,
 "nbformat_minor": 2
}
