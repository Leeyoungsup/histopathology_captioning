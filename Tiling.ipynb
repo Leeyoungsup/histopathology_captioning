{
 "cells": [
  {
   "cell_type": "code",
   "execution_count": 1,
   "metadata": {},
   "outputs": [],
   "source": [
    "import openslide\n",
    "import numpy as np\n",
    "from PIL import Image\n",
    "import cv2\n",
    "from glob import glob\n",
    "from tqdm import tqdm\n",
    "import os\n",
    "import matplotlib.pyplot as plt"
   ]
  },
  {
   "cell_type": "code",
   "execution_count": 2,
   "metadata": {},
   "outputs": [],
   "source": [
    "wsi_file_list=glob(\"../../data/Stomach biopsy 스캔원본/*.mrxs\")\n",
    "\n",
    "def create_dir(path):\n",
    "    if not os.path.exists(path):\n",
    "        os.makedirs(path)"
   ]
  },
  {
   "cell_type": "code",
   "execution_count": null,
   "metadata": {},
   "outputs": [],
   "source": [
    "for i in tqdm(range(len(wsi_file_list))):\n",
    "    slide=openslide.OpenSlide(wsi_file_list[i])\n",
    "    folder_name = (os.path.basename(wsi_file_list[i])).split(\".\")[0]\n",
    "\n",
    "    thumbnail = np.array(slide.get_thumbnail(slide.level_dimensions[6]))\n",
    "    hsv_image = cv2.cvtColor(thumbnail, cv2.COLOR_RGB2HSV)\n",
    "    mask=np.where(hsv_image[:,:,0]>127,255,0).astype(np.uint8)\n",
    "    Image.fromarray(mask).save('../../data/gcu_svs/mask/'+folder_name+\".png\")"
   ]
  },
  {
   "cell_type": "code",
   "execution_count": 9,
   "metadata": {},
   "outputs": [
    {
     "name": "stderr",
     "output_type": "stream",
     "text": [
      "  2%|▏         | 2/102 [22:26<18:41:44, 673.05s/it]\n"
     ]
    },
    {
     "ename": "KeyboardInterrupt",
     "evalue": "",
     "output_type": "error",
     "traceback": [
      "\u001b[0;31m---------------------------------------------------------------------------\u001b[0m",
      "\u001b[0;31mKeyboardInterrupt\u001b[0m                         Traceback (most recent call last)",
      "Input \u001b[0;32mIn [9]\u001b[0m, in \u001b[0;36m<cell line: 1>\u001b[0;34m()\u001b[0m\n\u001b[1;32m     16\u001b[0m \u001b[38;5;28;01mif\u001b[39;00m mask[y_ratio_ind[\u001b[38;5;241m0\u001b[39m]:y_ratio_ind[\u001b[38;5;241m1\u001b[39m],x_ratio_ind[\u001b[38;5;241m0\u001b[39m]:x_ratio_ind[\u001b[38;5;241m1\u001b[39m]]\u001b[38;5;241m.\u001b[39mmean()\u001b[38;5;241m==\u001b[39m\u001b[38;5;241m0\u001b[39m:\n\u001b[1;32m     17\u001b[0m     \u001b[38;5;28;01mcontinue\u001b[39;00m\n\u001b[0;32m---> 18\u001b[0m region \u001b[38;5;241m=\u001b[39m np\u001b[38;5;241m.\u001b[39marray(\u001b[43mslide\u001b[49m\u001b[38;5;241;43m.\u001b[39;49m\u001b[43mread_region\u001b[49m\u001b[43m(\u001b[49m\u001b[43m(\u001b[49m\u001b[43mx\u001b[49m\u001b[43m \u001b[49m\u001b[38;5;241;43m*\u001b[39;49m\u001b[43m \u001b[49m\u001b[43mtile_size\u001b[49m\u001b[43m,\u001b[49m\u001b[43m \u001b[49m\u001b[43my\u001b[49m\u001b[43m \u001b[49m\u001b[38;5;241;43m*\u001b[39;49m\u001b[43m \u001b[49m\u001b[43mtile_size\u001b[49m\u001b[43m)\u001b[49m\u001b[43m,\u001b[49m\u001b[43m \u001b[49m\u001b[43mlevel\u001b[49m\u001b[38;5;241;43m=\u001b[39;49m\u001b[38;5;241;43m0\u001b[39;49m\u001b[43m,\u001b[49m\u001b[43m \u001b[49m\u001b[43msize\u001b[49m\u001b[38;5;241;43m=\u001b[39;49m\u001b[43m(\u001b[49m\u001b[43mtile_size\u001b[49m\u001b[43m,\u001b[49m\u001b[43m \u001b[49m\u001b[43mtile_size\u001b[49m\u001b[43m)\u001b[49m\u001b[43m)\u001b[49m)\n\u001b[1;32m     19\u001b[0m hsv_image \u001b[38;5;241m=\u001b[39m cv2\u001b[38;5;241m.\u001b[39mcvtColor(region[:,:,:\u001b[38;5;241m-\u001b[39m\u001b[38;5;241m1\u001b[39m], cv2\u001b[38;5;241m.\u001b[39mCOLOR_RGB2HSV)\n\u001b[1;32m     20\u001b[0m ret,mask1\u001b[38;5;241m=\u001b[39mcv2\u001b[38;5;241m.\u001b[39mthreshold(hsv_image[:,:,\u001b[38;5;241m1\u001b[39m],\u001b[38;5;241m127\u001b[39m,\u001b[38;5;241m1\u001b[39m, cv2\u001b[38;5;241m.\u001b[39mTHRESH_OTSU)\n",
      "File \u001b[0;32m~/anaconda3/envs/LeeYS/lib/python3.10/site-packages/openslide/__init__.py:281\u001b[0m, in \u001b[0;36mOpenSlide.read_region\u001b[0;34m(self, location, level, size)\u001b[0m\n\u001b[1;32m    269\u001b[0m \u001b[38;5;28;01mdef\u001b[39;00m \u001b[38;5;21mread_region\u001b[39m(\n\u001b[1;32m    270\u001b[0m     \u001b[38;5;28mself\u001b[39m, location: \u001b[38;5;28mtuple\u001b[39m[\u001b[38;5;28mint\u001b[39m, \u001b[38;5;28mint\u001b[39m], level: \u001b[38;5;28mint\u001b[39m, size: \u001b[38;5;28mtuple\u001b[39m[\u001b[38;5;28mint\u001b[39m, \u001b[38;5;28mint\u001b[39m]\n\u001b[1;32m    271\u001b[0m ) \u001b[38;5;241m-\u001b[39m\u001b[38;5;241m>\u001b[39m Image\u001b[38;5;241m.\u001b[39mImage:\n\u001b[1;32m    272\u001b[0m \u001b[38;5;250m    \u001b[39m\u001b[38;5;124;03m\"\"\"Return a PIL.Image containing the contents of the region.\u001b[39;00m\n\u001b[1;32m    273\u001b[0m \n\u001b[1;32m    274\u001b[0m \u001b[38;5;124;03m    location: (x, y) tuple giving the top left pixel in the level 0\u001b[39;00m\n\u001b[0;32m   (...)\u001b[0m\n\u001b[1;32m    279\u001b[0m \u001b[38;5;124;03m    Unlike in the C interface, the image data returned by this\u001b[39;00m\n\u001b[1;32m    280\u001b[0m \u001b[38;5;124;03m    function is not premultiplied.\"\"\"\u001b[39;00m\n\u001b[0;32m--> 281\u001b[0m     region \u001b[38;5;241m=\u001b[39m \u001b[43mlowlevel\u001b[49m\u001b[38;5;241;43m.\u001b[39;49m\u001b[43mread_region\u001b[49m\u001b[43m(\u001b[49m\n\u001b[1;32m    282\u001b[0m \u001b[43m        \u001b[49m\u001b[38;5;28;43mself\u001b[39;49m\u001b[38;5;241;43m.\u001b[39;49m\u001b[43m_osr\u001b[49m\u001b[43m,\u001b[49m\u001b[43m \u001b[49m\u001b[43mlocation\u001b[49m\u001b[43m[\u001b[49m\u001b[38;5;241;43m0\u001b[39;49m\u001b[43m]\u001b[49m\u001b[43m,\u001b[49m\u001b[43m \u001b[49m\u001b[43mlocation\u001b[49m\u001b[43m[\u001b[49m\u001b[38;5;241;43m1\u001b[39;49m\u001b[43m]\u001b[49m\u001b[43m,\u001b[49m\u001b[43m \u001b[49m\u001b[43mlevel\u001b[49m\u001b[43m,\u001b[49m\u001b[43m \u001b[49m\u001b[43msize\u001b[49m\u001b[43m[\u001b[49m\u001b[38;5;241;43m0\u001b[39;49m\u001b[43m]\u001b[49m\u001b[43m,\u001b[49m\u001b[43m \u001b[49m\u001b[43msize\u001b[49m\u001b[43m[\u001b[49m\u001b[38;5;241;43m1\u001b[39;49m\u001b[43m]\u001b[49m\n\u001b[1;32m    283\u001b[0m \u001b[43m    \u001b[49m\u001b[43m)\u001b[49m\n\u001b[1;32m    284\u001b[0m     \u001b[38;5;28;01mif\u001b[39;00m \u001b[38;5;28mself\u001b[39m\u001b[38;5;241m.\u001b[39m_profile \u001b[38;5;129;01mis\u001b[39;00m \u001b[38;5;129;01mnot\u001b[39;00m \u001b[38;5;28;01mNone\u001b[39;00m:\n\u001b[1;32m    285\u001b[0m         region\u001b[38;5;241m.\u001b[39minfo[\u001b[38;5;124m'\u001b[39m\u001b[38;5;124micc_profile\u001b[39m\u001b[38;5;124m'\u001b[39m] \u001b[38;5;241m=\u001b[39m \u001b[38;5;28mself\u001b[39m\u001b[38;5;241m.\u001b[39m_profile\n",
      "File \u001b[0;32m~/anaconda3/envs/LeeYS/lib/python3.10/site-packages/openslide/lowlevel.py:443\u001b[0m, in \u001b[0;36mread_region\u001b[0;34m(slide, x, y, level, w, h)\u001b[0m\n\u001b[1;32m    441\u001b[0m     \u001b[38;5;28;01mreturn\u001b[39;00m Image\u001b[38;5;241m.\u001b[39mnew(\u001b[38;5;124m'\u001b[39m\u001b[38;5;124mRGBA\u001b[39m\u001b[38;5;124m'\u001b[39m, (w, h))\n\u001b[1;32m    442\u001b[0m buf \u001b[38;5;241m=\u001b[39m (w \u001b[38;5;241m*\u001b[39m h \u001b[38;5;241m*\u001b[39m c_uint32)()\n\u001b[0;32m--> 443\u001b[0m \u001b[43m_read_region\u001b[49m\u001b[43m(\u001b[49m\u001b[43mslide\u001b[49m\u001b[43m,\u001b[49m\u001b[43m \u001b[49m\u001b[43mbuf\u001b[49m\u001b[43m,\u001b[49m\u001b[43m \u001b[49m\u001b[43mx\u001b[49m\u001b[43m,\u001b[49m\u001b[43m \u001b[49m\u001b[43my\u001b[49m\u001b[43m,\u001b[49m\u001b[43m \u001b[49m\u001b[43mlevel\u001b[49m\u001b[43m,\u001b[49m\u001b[43m \u001b[49m\u001b[43mw\u001b[49m\u001b[43m,\u001b[49m\u001b[43m \u001b[49m\u001b[43mh\u001b[49m\u001b[43m)\u001b[49m\n\u001b[1;32m    444\u001b[0m \u001b[38;5;28;01mreturn\u001b[39;00m _load_image(buf, (w, h))\n",
      "File \u001b[0;32m~/anaconda3/envs/LeeYS/lib/python3.10/site-packages/openslide/lowlevel.py:285\u001b[0m, in \u001b[0;36m_check_error\u001b[0;34m(result, func, args)\u001b[0m\n\u001b[1;32m    281\u001b[0m         \u001b[38;5;28;01mreturn\u001b[39;00m result\n\u001b[1;32m    284\u001b[0m \u001b[38;5;66;03m# check if the library got into an error state after each library call\u001b[39;00m\n\u001b[0;32m--> 285\u001b[0m \u001b[38;5;28;01mdef\u001b[39;00m \u001b[38;5;21m_check_error\u001b[39m(result: Any, func: Any, args: \u001b[38;5;28mtuple\u001b[39m[Any, \u001b[38;5;241m.\u001b[39m\u001b[38;5;241m.\u001b[39m\u001b[38;5;241m.\u001b[39m]) \u001b[38;5;241m-\u001b[39m\u001b[38;5;241m>\u001b[39m Any:\n\u001b[1;32m    286\u001b[0m     \u001b[38;5;28;01massert\u001b[39;00m \u001b[38;5;28misinstance\u001b[39m(args[\u001b[38;5;241m0\u001b[39m], _OpenSlide)\n\u001b[1;32m    287\u001b[0m     err \u001b[38;5;241m=\u001b[39m get_error(args[\u001b[38;5;241m0\u001b[39m])\n",
      "\u001b[0;31mKeyboardInterrupt\u001b[0m: "
     ]
    }
   ],
   "source": [
    "for i in tqdm(range(len(wsi_file_list))):\n",
    "    slide=openslide.OpenSlide(wsi_file_list[i])\n",
    "    tile_size = int(300*(41.1/20.0))  # 각 타일 크기\n",
    "    x_tiles = slide.dimensions[0] // tile_size\n",
    "    y_tiles = slide.dimensions[1] // tile_size\n",
    "    src_tile_size=300\n",
    "    folder_name = (os.path.basename(wsi_file_list[i])).split(\".\")[0]\n",
    "    mask = np.array(Image.open('../../data/gcu_svs/mask/'+folder_name+\".png\"))\n",
    "    ratio=mask.shape[0]/slide.dimensions[1]\n",
    "    create_dir('../../data/gcu_svs/svs/'+folder_name+\"/\")\n",
    "    for x in range(x_tiles):\n",
    "        for y in range(y_tiles):\n",
    "            x_ratio_ind=[int(x*tile_size*ratio),int((x+1)*tile_size*ratio)]\n",
    "            y_ratio_ind=[int(y*tile_size*ratio),int((y+1)*tile_size*ratio)]\n",
    "            \n",
    "            if mask[y_ratio_ind[0]:y_ratio_ind[1],x_ratio_ind[0]:x_ratio_ind[1]].mean()==0:\n",
    "                continue\n",
    "            region = np.array(slide.read_region((x * tile_size, y * tile_size), level=0, size=(tile_size, tile_size)))\n",
    "            hsv_image = cv2.cvtColor(region[:,:,:-1], cv2.COLOR_RGB2HSV)\n",
    "            ret,mask1=cv2.threshold(hsv_image[:,:,1],127,1, cv2.THRESH_OTSU)\n",
    "            if ret<50:\n",
    "                continue\n",
    "            if mask1.sum()<tile_size*tile_size*0.5:\n",
    "                continue\n",
    "            Image.fromarray(region).resize((src_tile_size,src_tile_size)).save('../../data/gcu_svs/svs/'+folder_name+\"/{}_{}.png\".format(x,y))\n"
   ]
  },
  {
   "cell_type": "code",
   "execution_count": 7,
   "metadata": {},
   "outputs": [
    {
     "data": {
      "text/plain": [
       "616.5"
      ]
     },
     "execution_count": 7,
     "metadata": {},
     "output_type": "execute_result"
    }
   ],
   "source": [
    "tile_size"
   ]
  },
  {
   "cell_type": "code",
   "execution_count": null,
   "metadata": {},
   "outputs": [],
   "source": [
    "folder_name"
   ]
  }
 ],
 "metadata": {
  "kernelspec": {
   "display_name": "LeeYS",
   "language": "python",
   "name": "python3"
  },
  "language_info": {
   "codemirror_mode": {
    "name": "ipython",
    "version": 3
   },
   "file_extension": ".py",
   "mimetype": "text/x-python",
   "name": "python",
   "nbconvert_exporter": "python",
   "pygments_lexer": "ipython3",
   "version": "undefined.undefined.undefined"
  }
 },
 "nbformat": 4,
 "nbformat_minor": 2
}
