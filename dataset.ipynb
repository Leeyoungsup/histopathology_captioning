{
 "cells": [
  {
   "cell_type": "code",
   "execution_count": 1,
   "metadata": {},
   "outputs": [],
   "source": [
    "import os\n",
    "import shutil\n",
    "import sys\n",
    "from glob import glob\n",
    "from random import shuffle\n",
    "from sklearn.model_selection import train_test_split\n",
    "from tqdm import tqdm\n",
    "def create_dir(path):\n",
    "    if not os.path.exists(path):\n",
    "        os.makedirs(path)"
   ]
  },
  {
   "cell_type": "code",
   "execution_count": 2,
   "metadata": {},
   "outputs": [
    {
     "name": "stderr",
     "output_type": "stream",
     "text": [
      "  0%|          | 0/600 [00:00<?, ?it/s]"
     ]
    },
    {
     "name": "stderr",
     "output_type": "stream",
     "text": [
      "100%|██████████| 600/600 [01:11<00:00,  8.40it/s]\n",
      "100%|██████████| 75/75 [00:09<00:00,  8.08it/s]\n",
      "100%|██████████| 75/75 [00:09<00:00,  7.65it/s]\n",
      "100%|██████████| 600/600 [01:15<00:00,  7.94it/s]\n",
      "100%|██████████| 75/75 [00:09<00:00,  7.77it/s]\n",
      "100%|██████████| 75/75 [00:09<00:00,  8.24it/s]\n",
      "100%|██████████| 600/600 [01:20<00:00,  7.50it/s]\n",
      "100%|██████████| 75/75 [00:11<00:00,  6.68it/s]\n",
      "100%|██████████| 75/75 [00:10<00:00,  7.33it/s]\n",
      "100%|██████████| 600/600 [01:25<00:00,  7.03it/s]\n",
      "100%|██████████| 75/75 [00:09<00:00,  7.54it/s]\n",
      "100%|██████████| 75/75 [00:09<00:00,  7.66it/s]\n"
     ]
    }
   ],
   "source": [
    "a=[0.8,0.1,0.1]\n",
    "label_list=glob('../../../../JH_Park/nia_6/result/cvt_data/원시최종_copy/010.위암 병리 이미지 및 판독문 합성 데이터/2.라벨링/**/')\n",
    "for i in range(len(label_list)):\n",
    "    a_label_list=glob(label_list[i]+'/*.json')\n",
    "    train_list,test_list=train_test_split(a_label_list,test_size=0.2,random_state=42)\n",
    "    val_list,test_list=train_test_split(test_list,test_size=0.5,random_state=42)\n",
    "    for j in tqdm(range(len(train_list))):\n",
    "        save_path=train_list[j].replace('../../../../JH_Park/nia_6/result/cvt_data/원시최종_copy/010.위암 병리 이미지 및 판독문 합성 데이터', '../../../2024_NIA_histopathology/data/원시/010.위암 병리 이미지 및 판독문 합성 데이터/train')\n",
    "        image_path=train_list[j].replace('.json','.png')\n",
    "        image_path=image_path.replace('/2.라벨링','/1.원천데이터')\n",
    "        save_load_path=image_path.replace('../../../../JH_Park/nia_6/result/cvt_data/원시최종_copy/010.위암 병리 이미지 및 판독문 합성 데이터', '../../../2024_NIA_histopathology/data/원시/010.위암 병리 이미지 및 판독문 합성 데이터/train')\n",
    "        save_load_path=save_load_path.replace('/1.원천데이터','/1.원시데이터')\n",
    "        create_dir(os.path.dirname(save_path))\n",
    "        create_dir(os.path.dirname(save_load_path))\n",
    "        shutil.copy(train_list[j],save_path)\n",
    "        shutil.copy(image_path,save_load_path)\n",
    "    for j in tqdm(range(len(test_list))):\n",
    "        save_path=test_list[j].replace('../../../../JH_Park/nia_6/result/cvt_data/원시최종_copy/010.위암 병리 이미지 및 판독문 합성 데이터', '../../../2024_NIA_histopathology/data/원시/010.위암 병리 이미지 및 판독문 합성 데이터/test')\n",
    "        image_path=test_list[j].replace('.json','.png')\n",
    "        image_path=image_path.replace('/2.라벨링','/1.원천데이터')\n",
    "        save_load_path=image_path.replace('../../../../JH_Park/nia_6/result/cvt_data/원시최종_copy/010.위암 병리 이미지 및 판독문 합성 데이터', '../../../2024_NIA_histopathology/data/원시/010.위암 병리 이미지 및 판독문 합성 데이터/test')\n",
    "        save_load_path=save_load_path.replace('/1.원천데이터','/1.원시데이터')\n",
    "        create_dir(os.path.dirname(save_path))\n",
    "        create_dir(os.path.dirname(save_load_path))\n",
    "        shutil.copy(test_list[j],save_path)\n",
    "        shutil.copy(image_path,save_load_path)\n",
    "    for j in tqdm(range(len(val_list))):\n",
    "        save_path=val_list[j].replace('../../../../JH_Park/nia_6/result/cvt_data/원시최종_copy/010.위암 병리 이미지 및 판독문 합성 데이터', '../../../2024_NIA_histopathology/data/원시/010.위암 병리 이미지 및 판독문 합성 데이터/val')\n",
    "        image_path=val_list[j].replace('.json','.png')\n",
    "        image_path=image_path.replace('/2.라벨링','/1.원천데이터')\n",
    "        save_load_path=image_path.replace('../../../../JH_Park/nia_6/result/cvt_data/원시최종_copy/010.위암 병리 이미지 및 판독문 합성 데이터', '../../../2024_NIA_histopathology/data/원시/010.위암 병리 이미지 및 판독문 합성 데이터/val')\n",
    "        save_load_path=save_load_path.replace('/1.원천데이터','/1.원시데이터')\n",
    "        create_dir(os.path.dirname(save_path))\n",
    "        create_dir(os.path.dirname(save_load_path))\n",
    "        shutil.copy(val_list[j],save_path)\n",
    "        shutil.copy(image_path,save_load_path)"
   ]
  },
  {
   "cell_type": "code",
   "execution_count": 3,
   "metadata": {},
   "outputs": [
    {
     "name": "stderr",
     "output_type": "stream",
     "text": [
      "100%|██████████| 2080/2080 [04:41<00:00,  7.40it/s]\n",
      "100%|██████████| 260/260 [00:33<00:00,  7.66it/s]\n",
      "100%|██████████| 260/260 [00:31<00:00,  8.19it/s]\n",
      "100%|██████████| 2160/2160 [04:43<00:00,  7.62it/s]\n",
      "100%|██████████| 270/270 [00:35<00:00,  7.66it/s]\n",
      "100%|██████████| 270/270 [00:35<00:00,  7.59it/s]\n",
      "100%|██████████| 2160/2160 [05:47<00:00,  6.21it/s]\n",
      "100%|██████████| 270/270 [01:26<00:00,  3.13it/s]\n",
      "100%|██████████| 270/270 [00:36<00:00,  7.30it/s]\n"
     ]
    }
   ],
   "source": [
    "a=[0.8,0.1,0.1]\n",
    "label_list=glob('../../../../JH_Park/nia_6/result/cvt_data/원시최종_copy/011.유방암 병리 이미지 및 판독문 합성 데이터/2.라벨링/**/')\n",
    "for i in range(len(label_list)):\n",
    "    a_label_list=glob(label_list[i]+'/*.json')\n",
    "    train_list,test_list=train_test_split(a_label_list,test_size=0.2,random_state=42)\n",
    "    val_list,test_list=train_test_split(test_list,test_size=0.5,random_state=42)\n",
    "    for j in tqdm(range(len(train_list))):\n",
    "        save_path=train_list[j].replace('../../../../JH_Park/nia_6/result/cvt_data/원시최종_copy/011.유방암 병리 이미지 및 판독문 합성 데이터', '../../../2024_NIA_histopathology/data/원시/011.유방암 병리 이미지 및 판독문 합성 데이터/train')\n",
    "        image_path=train_list[j].replace('.json','.png')\n",
    "        image_path=image_path.replace('/2.라벨링','/1.원천데이터')\n",
    "        save_load_path=image_path.replace('../../../../JH_Park/nia_6/result/cvt_data/원시최종_copy/011.유방암 병리 이미지 및 판독문 합성 데이터', '../../../2024_NIA_histopathology/data/원시/011.유방암 병리 이미지 및 판독문 합성 데이터/train')\n",
    "        save_load_path=save_load_path.replace('/1.원천데이터','/1.원시데이터')\n",
    "        create_dir(os.path.dirname(save_path))\n",
    "        create_dir(os.path.dirname(save_load_path))\n",
    "        shutil.copy(train_list[j],save_path)\n",
    "        shutil.copy(image_path,save_load_path)\n",
    "    for j in tqdm(range(len(test_list))):\n",
    "        save_path=test_list[j].replace('../../../../JH_Park/nia_6/result/cvt_data/원시최종_copy/011.유방암 병리 이미지 및 판독문 합성 데이터', '../../../2024_NIA_histopathology/data/원시/011.유방암 병리 이미지 및 판독문 합성 데이터/test')\n",
    "        image_path=test_list[j].replace('.json','.png')\n",
    "        image_path=image_path.replace('/2.라벨링','/1.원천데이터')\n",
    "        save_load_path=image_path.replace('../../../../JH_Park/nia_6/result/cvt_data/원시최종_copy/011.유방암 병리 이미지 및 판독문 합성 데이터', '../../../2024_NIA_histopathology/data/원시/011.유방암 병리 이미지 및 판독문 합성 데이터/test')\n",
    "        save_load_path=save_load_path.replace('/1.원천데이터','/1.원시데이터')\n",
    "        create_dir(os.path.dirname(save_path))\n",
    "        create_dir(os.path.dirname(save_load_path))\n",
    "        shutil.copy(test_list[j],save_path)\n",
    "        shutil.copy(image_path,save_load_path)\n",
    "    for j in tqdm(range(len(val_list))):\n",
    "        save_path=val_list[j].replace('../../../../JH_Park/nia_6/result/cvt_data/원시최종_copy/011.유방암 병리 이미지 및 판독문 합성 데이터', '../../../2024_NIA_histopathology/data/원시/011.유방암 병리 이미지 및 판독문 합성 데이터/val')\n",
    "        image_path=val_list[j].replace('.json','.png')\n",
    "        image_path=image_path.replace('/2.라벨링','/1.원천데이터')\n",
    "        save_load_path=image_path.replace('../../../../JH_Park/nia_6/result/cvt_data/원시최종_copy/011.유방암 병리 이미지 및 판독문 합성 데이터', '../../../2024_NIA_histopathology/data/원시/011.유방암 병리 이미지 및 판독문 합성 데이터/val')\n",
    "        save_load_path=save_load_path.replace('/1.원천데이터','/1.원시데이터')\n",
    "        create_dir(os.path.dirname(save_path))\n",
    "        create_dir(os.path.dirname(save_load_path))\n",
    "        shutil.copy(val_list[j],save_path)\n",
    "        shutil.copy(image_path,save_load_path)"
   ]
  }
 ],
 "metadata": {
  "kernelspec": {
   "display_name": "LeeYS",
   "language": "python",
   "name": "python3"
  },
  "language_info": {
   "codemirror_mode": {
    "name": "ipython",
    "version": 3
   },
   "file_extension": ".py",
   "mimetype": "text/x-python",
   "name": "python",
   "nbconvert_exporter": "python",
   "pygments_lexer": "ipython3",
   "version": "3.9.0"
  }
 },
 "nbformat": 4,
 "nbformat_minor": 2
}
